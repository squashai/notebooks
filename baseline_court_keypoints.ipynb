{
  "nbformat": 4,
  "nbformat_minor": 0,
  "metadata": {
    "colab": {
      "name": "baseline-court-keypoints.ipynb",
      "provenance": [],
      "collapsed_sections": [],
      "toc_visible": true,
      "mount_file_id": "1SK3yA3Fyn5j5C-KnelGQqKODHSPFc9HG",
      "authorship_tag": "ABX9TyO38uoFf5tXXDp/fd5Bd0WQ",
      "include_colab_link": true
    },
    "kernelspec": {
      "name": "python3",
      "display_name": "Python 3"
    },
    "accelerator": "GPU"
  },
  "cells": [
    {
      "cell_type": "markdown",
      "metadata": {
        "id": "view-in-github",
        "colab_type": "text"
      },
      "source": [
        "<a href=\"https://colab.research.google.com/github/squashai/notebooks/blob/main/baseline_court_keypoints.ipynb\" target=\"_parent\"><img src=\"https://colab.research.google.com/assets/colab-badge.svg\" alt=\"Open In Colab\"/></a>"
      ]
    },
    {
      "cell_type": "markdown",
      "metadata": {
        "id": "ygoII-vrKGbA"
      },
      "source": [
        "# Baseline estimation of squash court keypoints\n",
        "\n",
        "This notebook trains a convolutional neural network inspired by [Simple Baselines for Human Pose Estimation and Tracking\n",
        "](https://paperswithcode.com/paper/simple-baselines-for-human-pose-estimation) on the [SquashAI player position dataset](https://github.com/squashai/datasets).\n",
        "\n",
        "[![View source on Github](https://img.shields.io/badge/-View%20source%20on%20Github-blue?logo=github&labelColor=black)](https://github.com/squashai/notebooks/blob/main/baseline_court_keypoints.ipynb)\n"
      ]
    },
    {
      "cell_type": "markdown",
      "metadata": {
        "id": "Qv16D_9wDAz0"
      },
      "source": [
        "# Initialization"
      ]
    },
    {
      "cell_type": "markdown",
      "metadata": {
        "id": "ZYIVlnf0DU0N"
      },
      "source": [
        "## Dataset Retrievial"
      ]
    },
    {
      "cell_type": "code",
      "metadata": {
        "id": "jY2pbHwD8aJG"
      },
      "source": [
        "%cd /content/\n",
        "!curl -L --output datasets+img.tar.gz https://github.com/squashai/datasets/releases/download/0.0.6/datasets+img.tar.gz\n",
        "!tar zxf datasets+img.tar.gz"
      ],
      "execution_count": null,
      "outputs": []
    },
    {
      "cell_type": "code",
      "metadata": {
        "id": "aiOEILuo5FVy"
      },
      "source": [
        "%cd /content/datasets+img/"
      ],
      "execution_count": null,
      "outputs": []
    },
    {
      "cell_type": "markdown",
      "metadata": {
        "id": "JIAUn-pTDh69"
      },
      "source": [
        "## Imports and Variables"
      ]
    },
    {
      "cell_type": "code",
      "metadata": {
        "id": "K7yPNdqYV-mP"
      },
      "source": [
        "# imports for data handling\n",
        "import glob\n",
        "import os\n",
        "import numpy as np\n",
        "import pandas as pd\n",
        "import matplotlib.pyplot as plt\n",
        "import matplotlib.image as mpimg\n",
        "import cv2\n",
        "from random import random\n",
        "# imports for model handling\n",
        "from tensorflow import keras\n",
        "from keras.models import Sequential, Model, load_model\n",
        "from keras.layers import (\n",
        "    Conv2D, Conv2DTranspose, BatchNormalization, LeakyReLU, MaxPool2D\n",
        ")\n",
        "from keras.callbacks import ReduceLROnPlateau, ModelCheckpoint\n",
        "from keras.optimizers import Adam\n",
        "from keras.applications import ResNet50\n",
        "from keras.utils import plot_model"
      ],
      "execution_count": null,
      "outputs": []
    },
    {
      "cell_type": "code",
      "metadata": {
        "id": "SFpiGQjBLaJg"
      },
      "source": [
        "# downloaded dataset\n",
        "DATASET_DIR = '.'\n",
        "DATASET_FILE = os.path.join(DATASET_DIR, 'images.csv')\n",
        "\n",
        "# image size for model training and testing\n",
        "MODEL_INPUT_SIZE = (108, 192)\n",
        "\n",
        "# gaussian Sigma for model heatmaps\n",
        "HEATMAP_SIGMA = 10\n",
        "\n",
        "# zoom factor\n",
        "MAX_ZOOM_FACTOR = 1.3\n",
        "\n",
        "# model variables\n",
        "NUM_EPOCHS = 100\n",
        "BATCH_SIZE = 128\n",
        "BEST_MODEL_FILE = 'best_bs-points_model.hdf5'\n",
        "LAST_MODEL_FILE = 'last_bs-points_model.hdf5'\n",
        "\n",
        "# path to final store for models (should be persistent)\n",
        "PERSISTENT_MODELS_DIR = '/content/drive/My Drive/colab-data'"
      ],
      "execution_count": null,
      "outputs": []
    },
    {
      "cell_type": "code",
      "metadata": {
        "id": "ZiNTo-llX2xZ"
      },
      "source": [
        "# dataset data\n",
        "images = []\n",
        "boxes = []\n",
        "\n",
        "# train, test and evaluation data\n",
        "model_images = []\n",
        "model_boxes = []\n",
        "model_heatmaps = []"
      ],
      "execution_count": null,
      "outputs": []
    },
    {
      "cell_type": "markdown",
      "metadata": {
        "id": "no4Km65gYi4u"
      },
      "source": [
        "## Data Preparation"
      ]
    },
    {
      "cell_type": "markdown",
      "metadata": {
        "id": "kkAAfPMDMLp5"
      },
      "source": [
        "### Data Extraction"
      ]
    },
    {
      "cell_type": "code",
      "metadata": {
        "id": "Gostw7dZMSRe"
      },
      "source": [
        "images.clear()\n",
        "boxes.clear()\n",
        "\n",
        "data_frame = pd.read_csv(DATASET_FILE, sep=';')\n",
        "for idx, row in data_frame[:].iterrows():\n",
        "    image = np.array(mpimg.imread(os.path.join(DATASET_DIR, row.filename)))\n",
        "    box = np.reshape(np.array(row[1:], dtype=float), (-1, 2))\n",
        "    images.append(image)\n",
        "    boxes.append(box)"
      ],
      "execution_count": null,
      "outputs": []
    },
    {
      "cell_type": "markdown",
      "metadata": {
        "id": "17PWshZxN4hR"
      },
      "source": [
        "#### Inspection"
      ]
    },
    {
      "cell_type": "code",
      "metadata": {
        "id": "yg19a7iaNzYF"
      },
      "source": [
        "print('Shape of images: {}'.format(np.shape(images)))\n",
        "print('Shape of boxes: {}'.format(np.shape(boxes)))"
      ],
      "execution_count": null,
      "outputs": []
    },
    {
      "cell_type": "markdown",
      "metadata": {
        "id": "SVlKHjnMOmgJ"
      },
      "source": [
        "### Helper Functions"
      ]
    },
    {
      "cell_type": "markdown",
      "metadata": {
        "id": "iCJQDn1nO4aU"
      },
      "source": [
        "#### Plotting Functions"
      ]
    },
    {
      "cell_type": "code",
      "metadata": {
        "id": "KU5EFZKlI3b6"
      },
      "source": [
        "def plot_image(image=None, box=None, heatmap=None):\n",
        "    plt.figure(figsize=(10, 10))\n",
        "    if image is not None:\n",
        "        if hasattr(image, 'dtype') and image.dtype == np.float16:\n",
        "            plt.imshow(np.array(image, dtype=np.float32))\n",
        "        else:\n",
        "            plt.imshow(image)\n",
        "\n",
        "    if box is not None:\n",
        "        for idx, label in enumerate(['tl', 'tr', 'br', 'bl']):\n",
        "            x, y = box[idx]\n",
        "            if not np.any(np.isnan([x, y])):\n",
        "                plt.scatter(x, y, s=20, marker='.', color='red')\n",
        "                plt.text(x, y, label, color='red', fontsize=20)\n",
        "\n",
        "    if heatmap is not None:\n",
        "        if image is not None:\n",
        "            h, w = np.shape(image)[:2]\n",
        "        else:\n",
        "            h, w = np.shape(heatmap)[:2]\n",
        "        n = np.shape(heatmap)[-1]\n",
        "\n",
        "        rgba = np.zeros((h, w, 4))\n",
        "        rgba[:, :, 0] = heatmap[:h, :w, 0] + heatmap[:h, :w, 1]\n",
        "        rgba[:, :, 1] = heatmap[:h, :w, 1] + heatmap[:h, :w, 2]\n",
        "        rgba[:, :, 2] = heatmap[:h, :w, 2] + heatmap[:h, :w, 3]\n",
        "        rgba[:, :, 3] = (\n",
        "            heatmap[:h, :w, 0] + heatmap[:h, :w, 1] +\n",
        "            heatmap[:h, :w, 2] + heatmap[:h, :w, 3]\n",
        "        )\n",
        "        max_val = rgba.max()\n",
        "        if max_val > 0:\n",
        "            rgba *= (1 / max_val)\n",
        "\n",
        "        plt.imshow(rgba)\n",
        "\n",
        "    plt.show()"
      ],
      "execution_count": null,
      "outputs": []
    },
    {
      "cell_type": "markdown",
      "metadata": {
        "id": "HB2oZ0uUPAWO"
      },
      "source": [
        "##### Tests"
      ]
    },
    {
      "cell_type": "code",
      "metadata": {
        "id": "QedEX0GIPE3l"
      },
      "source": [
        "n = 50\n",
        "\n",
        "image = images[n]\n",
        "box = boxes[n]\n",
        "\n",
        "plot_image(image)\n",
        "plot_image(image, box)"
      ],
      "execution_count": null,
      "outputs": []
    },
    {
      "cell_type": "markdown",
      "metadata": {
        "id": "NU0t4PtiATSb"
      },
      "source": [
        "#### Heatmap Functions"
      ]
    },
    {
      "cell_type": "code",
      "metadata": {
        "id": "x5B7cmghAVss"
      },
      "source": [
        "def point_to_layer(point, output_size, sigma):\n",
        "    if np.any(np.isnan(point)):\n",
        "        return np.zeros(output_size)\n",
        "    else:\n",
        "        x0, y0 = point\n",
        "        h, w = output_size\n",
        "        if np.any(np.isnan(point)):\n",
        "            return np.zeros(output_size)\n",
        "        x = np.arange(0, w, 1, float)\n",
        "        y = np.arange(0, h, 1, float)[:, np.newaxis]\n",
        "        return np.exp(-((x - x0) ** 2 + (y - y0) ** 2) / (2 * sigma ** 2))\n",
        "\n",
        "def box_to_heatmap(box, output_size, sigma):\n",
        "    h, w = output_size\n",
        "    heatmap = np.zeros((h, w, len(box)), dtype=np.float16)\n",
        "    for idx in range(len(box)):\n",
        "        heatmap[:, :, idx] = point_to_layer(box[idx], output_size, sigma)\n",
        "    return heatmap"
      ],
      "execution_count": null,
      "outputs": []
    },
    {
      "cell_type": "code",
      "metadata": {
        "id": "7336TphegwIA"
      },
      "source": [
        "def layer_to_point(hm_layer, num_points=4, threshold=0.2):\n",
        "    ## pick the largest num_points\n",
        "    ind = hm_layer.argsort(axis=None)[-num_points:]\n",
        "    topind = np.unravel_index(ind, np.shape(hm_layer))\n",
        "    index = np.unravel_index(hm_layer.argmax(), np.shape(hm_layer))\n",
        "    y, x, hsum = 0, 0, 0\n",
        "    for ind in zip(topind[0],topind[1]):\n",
        "        h  = hm_layer[ind[0],ind[1]]\n",
        "        hsum += h\n",
        "        y   += ind[0]*h\n",
        "        x   += ind[1]*h\n",
        "\n",
        "    if hsum / num_points <= threshold:\n",
        "        y, x = float('NaN'), float('NaN')\n",
        "    else:\n",
        "        y /= hsum\n",
        "        x /= hsum\n",
        " \n",
        "    return [x, y]\n",
        "\n",
        "def heatmap_to_box(heatmap, num_points=4, threshold=0.2):\n",
        "    box = []\n",
        "    for l in range(np.shape(heatmap)[-1]):\n",
        "        box.append(layer_to_point(heatmap[:, :, l], num_points, threshold))\n",
        "\n",
        "    return box"
      ],
      "execution_count": null,
      "outputs": []
    },
    {
      "cell_type": "markdown",
      "metadata": {
        "id": "khT_EptQM_i2"
      },
      "source": [
        "##### Tests"
      ]
    },
    {
      "cell_type": "code",
      "metadata": {
        "id": "GopATj4Q-edY"
      },
      "source": [
        "n = 0\n",
        "\n",
        "image = images[n]\n",
        "box = boxes[n]\n",
        "heatmap = box_to_heatmap(box, np.shape(image)[:2], 10)\n",
        "\n",
        "plot_image(image, box)\n",
        "plot_image(image, heatmap=heatmap)\n",
        "plot_image(image, box=heatmap_to_box(heatmap))\n",
        "for idx in range(np.shape(heatmap)[-1]):\n",
        "    plot_image(heatmap[:, :, idx])"
      ],
      "execution_count": null,
      "outputs": []
    },
    {
      "cell_type": "markdown",
      "metadata": {
        "id": "D_dEBBmTPYLF"
      },
      "source": [
        "#### Scaling Functions"
      ]
    },
    {
      "cell_type": "code",
      "metadata": {
        "id": "8WKWPpxmPe1A"
      },
      "source": [
        "def scale_image(image, output_size):\n",
        "    h, w = image.shape[:2]\n",
        "    if isinstance(output_size, int):\n",
        "        if h > w:\n",
        "            new_h, new_w = output_size * h / w, output_size\n",
        "        else:\n",
        "            new_h, new_w = output_size, output_size * w / h\n",
        "    else:\n",
        "        new_h, new_w = output_size\n",
        "\n",
        "    new_h, new_w = int(new_h), int(new_w)\n",
        "    new_image = cv2.resize(image, (new_w, new_h))\n",
        "    return new_image\n",
        "\n",
        "def scale_box(box, input_size, output_size):\n",
        "    h, w = input_size[0:2]\n",
        "    if isinstance(output_size, int):\n",
        "        if h > w:\n",
        "            new_h, new_w = output_size * h / w, output_size\n",
        "        else:\n",
        "            new_h, new_w = output_size, output_size * w / h\n",
        "    else:\n",
        "        new_h, new_w = output_size\n",
        "    new_box = box * [new_w / w, new_h / h]\n",
        "    return new_box\n",
        "\n",
        "def scale(image, output_size, box=None):\n",
        "    new_img = scale_image(image, output_size)\n",
        "    if box is not None:\n",
        "        new_box = scale_box(box, np.shape(image), output_size)\n",
        "        return new_img, new_box\n",
        "    return new_img"
      ],
      "execution_count": null,
      "outputs": []
    },
    {
      "cell_type": "markdown",
      "metadata": {
        "id": "x9Y7AJC4QTOT"
      },
      "source": [
        "##### Tests"
      ]
    },
    {
      "cell_type": "code",
      "metadata": {
        "id": "_p345VcSQVAO"
      },
      "source": [
        "n = 20\n",
        "downscale = (72, 128)\n",
        "upscale = (1080, 1920)\n",
        "\n",
        "image = images[n]\n",
        "box = boxes[n]\n",
        "small_image, small_box = scale(image, downscale, box)\n",
        "small_heatmap = box_to_heatmap(small_box, np.shape(small_image)[:2], 2)\n",
        "\n",
        "plot_image(image, box)\n",
        "plot_image(small_image, heatmap=small_heatmap)\n",
        "plot_image(small_image, small_box, small_heatmap)\n",
        "plot_image(*scale(image, upscale, box))\n"
      ],
      "execution_count": null,
      "outputs": []
    },
    {
      "cell_type": "markdown",
      "metadata": {
        "id": "dcQFz1evTN5-"
      },
      "source": [
        "#### Cropping Functions"
      ]
    },
    {
      "cell_type": "code",
      "metadata": {
        "id": "Y0uQNzBpTBRE"
      },
      "source": [
        "def crop_image(image, output_size):\n",
        "    h, w = image.shape[:2]\n",
        "    if isinstance(output_size, int):\n",
        "        new_h, new_w = (output_size, output_size)\n",
        "    else:\n",
        "        new_h, new_w = output_size\n",
        "    top = int((h - new_h) / 2)\n",
        "    left = int((w - new_w) / 2)\n",
        "\n",
        "    image = image[top : top + new_h,\n",
        "                  left : left + new_w]\n",
        "    return image\n",
        "\n",
        "def crop_box(box, input_size, output_size):\n",
        "    h, w = input_size[0:2]\n",
        "    if isinstance(output_size, int):\n",
        "        new_h, new_w = (output_size, output_size)\n",
        "    else:\n",
        "        new_h, new_w = output_size\n",
        "    top = int((h - new_h) / 2)\n",
        "    left = int((w - new_w) / 2)\n",
        "    new_box = box - [left, top]\n",
        "    cropped = (\n",
        "        (new_box[:,0] > new_w) | (new_box[:, 1] > new_h) |\n",
        "        (new_box[:,0] < 0) | (new_box[:, 1] < 0)\n",
        "    )\n",
        "    new_box[cropped] = [float('NaN'), float('NaN')]\n",
        "    return new_box\n",
        "\n",
        "def crop(image, output_size, box=None):\n",
        "    new_img = crop_image(image, output_size)\n",
        "    if box is not None:\n",
        "        new_box = crop_box(box, np.shape(image), output_size)\n",
        "        return new_img, new_box\n",
        "\n",
        "    return new_img\n"
      ],
      "execution_count": null,
      "outputs": []
    },
    {
      "cell_type": "markdown",
      "metadata": {
        "id": "j8tK1YKMVBC_"
      },
      "source": [
        "##### Tests"
      ]
    },
    {
      "cell_type": "code",
      "metadata": {
        "id": "RiLEXBfFTRvE"
      },
      "source": [
        "n = 20\n",
        "downsize = (500, 500)\n",
        "\n",
        "image = images[n]\n",
        "box = boxes[n]\n",
        "small_image, small_box = crop(image, downsize, box)\n",
        "small_heatmap = box_to_heatmap(small_box, np.shape(small_image)[:2], 15)\n",
        "\n",
        "plot_image(image, box)\n",
        "plot_image(small_image, heatmap=small_heatmap)\n",
        "plot_image(small_image, small_box, small_heatmap)"
      ],
      "execution_count": null,
      "outputs": []
    },
    {
      "cell_type": "markdown",
      "metadata": {
        "id": "ICcuM-h2mtX1"
      },
      "source": [
        "#### Zoom Functions"
      ]
    },
    {
      "cell_type": "code",
      "metadata": {
        "id": "nPp1MmYMmp7h"
      },
      "source": [
        "def zoom_image(image, factor):\n",
        "    new_size = np.array(image.shape[:2]) * factor\n",
        "    new_image = scale_image(image, new_size)\n",
        "    return crop_image(new_image, np.shape(image)[:2])\n",
        "\n",
        "def zoom_box(box, input_size, factor):\n",
        "    new_size = np.array(input_size) * factor\n",
        "    new_box = scale_box(box, input_size, new_size)\n",
        "    return crop_box(new_box, new_size, input_size)\n",
        "\n",
        "def zoom(image, factor, box=None):\n",
        "    new_img = zoom_image(image, factor)\n",
        "    if box is not None:\n",
        "        new_box = zoom_box(box, np.shape(image)[:2], factor)\n",
        "        return new_img, new_box\n",
        "\n",
        "    return new_img"
      ],
      "execution_count": null,
      "outputs": []
    },
    {
      "cell_type": "markdown",
      "metadata": {
        "id": "vKhGGANcnUqk"
      },
      "source": [
        "##### Tests"
      ]
    },
    {
      "cell_type": "code",
      "metadata": {
        "id": "g3fYyW_OnWsd"
      },
      "source": [
        "n = 500\n",
        "factor = 1.2\n",
        "\n",
        "image = images[n]\n",
        "box = boxes[n]\n",
        "zoomed_image, zoomed_box = zoom(image, factor, box)\n",
        "zoomed_heatmap = box_to_heatmap(zoomed_box, np.shape(zoomed_image)[:2], 20)\n",
        "\n",
        "plot_image(image, box)\n",
        "plot_image(zoomed_image, zoomed_box, zoomed_heatmap)\n",
        "plot_image(*zoom(image, factor, box))"
      ],
      "execution_count": null,
      "outputs": []
    },
    {
      "cell_type": "markdown",
      "metadata": {
        "id": "Y4leWHIcYW9B"
      },
      "source": [
        "#### Flipping Functions"
      ]
    },
    {
      "cell_type": "code",
      "metadata": {
        "id": "yUHxeoWTYbt6"
      },
      "source": [
        "def flip_image(image):\n",
        "    img = cv2.flip(image, 1)\n",
        "    return img\n",
        "\n",
        "def flip_box(box, input_size):\n",
        "    center = input_size[1] / 2\n",
        "    new_box = np.array([\n",
        "        box[1], box[0], box[3], box[2]\n",
        "    ])\n",
        "    new_box[:, 0] = 2 * center - new_box[:, 0]\n",
        "    return new_box\n",
        "\n",
        "def flip(image, box=None):\n",
        "    new_img = flip_image(image)\n",
        "    if box is not None:\n",
        "        new_box = flip_box(box, np.shape(image))\n",
        "        return new_img, new_box\n",
        "    return new_img"
      ],
      "execution_count": null,
      "outputs": []
    },
    {
      "cell_type": "markdown",
      "metadata": {
        "id": "HObExz07ZQO9"
      },
      "source": [
        "##### Tests"
      ]
    },
    {
      "cell_type": "code",
      "metadata": {
        "id": "du3Dic6OZSaE"
      },
      "source": [
        "n = 50\n",
        "\n",
        "image = images[n]\n",
        "box = boxes[n]\n",
        "heatmap = box_to_heatmap(box, np.shape(image)[:2], 20)\n",
        "flipped_image, flipped_box = flip(image, box)\n",
        "flipped_heatmap = box_to_heatmap(flipped_box, np.shape(flipped_image)[:2], 20)\n",
        "\n",
        "plot_image(image, box, heatmap)\n",
        "plot_image(flipped_image, flipped_box, flipped_heatmap)"
      ],
      "execution_count": null,
      "outputs": []
    },
    {
      "cell_type": "markdown",
      "metadata": {
        "id": "l6wT2F4owcrX"
      },
      "source": [
        "#### Persistance Functions"
      ]
    },
    {
      "cell_type": "code",
      "metadata": {
        "id": "Tw-cSTI8W7m1"
      },
      "source": [
        "def persist(filename):\n",
        "    shutil.copy(filename, os.path.join(PERSISTENT_MODELS_DIR, filename))\n",
        "\n",
        "def restore(filename):\n",
        "    shutil.copy(os.path.join(PERSISTENT_MODELS_DIR, filename), filename)\n",
        "\n",
        "def unpersist(filename):\n",
        "    os.remove(os.path.join(PERSISTENT_MODELS_DIR, filename))"
      ],
      "execution_count": null,
      "outputs": []
    },
    {
      "cell_type": "markdown",
      "metadata": {
        "id": "Eq9QsrbSYFjJ"
      },
      "source": [
        "##### Tests"
      ]
    },
    {
      "cell_type": "code",
      "metadata": {
        "id": "XreKJcN8YIDk"
      },
      "source": [
        "!echo Hi > foobar\n",
        "persist('foobar')\n",
        "!rm foobar\n",
        "!stat foobar\n",
        "restore('foobar')\n",
        "!cat foobar\n",
        "!rm foobar\n",
        "unpersist('foobar')\n",
        "try:\n",
        "    restore('foobar')\n",
        "except:\n",
        "    print('`restore()` correctly failed')"
      ],
      "execution_count": null,
      "outputs": []
    },
    {
      "cell_type": "markdown",
      "metadata": {
        "id": "wZhM11sRVGXi"
      },
      "source": [
        "### Data Augmentation"
      ]
    },
    {
      "cell_type": "code",
      "metadata": {
        "id": "lRuZfX2-VKjE"
      },
      "source": [
        "model_images.clear()\n",
        "model_boxes.clear()\n",
        "model_heatmaps.clear()\n",
        "\n",
        "def store(image, box, heatmap):\n",
        "    model_images.append(image)\n",
        "    model_boxes.append(box)\n",
        "    model_heatmaps.append(heatmap)\n",
        "    return image, box, heatmap\n",
        "\n",
        "def downscale_and_store(image, box):\n",
        "    scaled_image, scaled_box = scale(image, MODEL_INPUT_SIZE, box)\n",
        "    scaled_heatmap = box_to_heatmap(scaled_box,\n",
        "                                    MODEL_INPUT_SIZE, HEATMAP_SIGMA)\n",
        "    return store(scaled_image, scaled_box, scaled_heatmap)[:2]\n",
        "\n",
        "def flip_and_store(image, box):\n",
        "    flipped_image, flipped_box = flip(image, box)\n",
        "    flipped_heatmap = box_to_heatmap(flipped_box,\n",
        "                                        MODEL_INPUT_SIZE, HEATMAP_SIGMA)\n",
        "    return store(flipped_image, flipped_box, flipped_heatmap)[:2]\n",
        "\n",
        "\n",
        "for idx in range(len(images[:])):\n",
        "    # downscale and store\n",
        "    #downscale_and_store(images[idx], boxes[idx])\n",
        "\n",
        "    # downscale original and store, then flip and store again\n",
        "    flip_and_store(*downscale_and_store(images[idx], boxes[idx]))\n",
        " \n",
        "    # zoom original...\n",
        "    zoomed_image, zoomed_box = zoom(images[idx],\n",
        "                                    random() * (MAX_ZOOM_FACTOR - 1) + 1,\n",
        "                                    boxes[idx])\n",
        "\n",
        "    # ... then downscale zoomed and store, then flip zoomed downscaled\n",
        "    # and store\n",
        "    flip_and_store(*downscale_and_store(zoomed_image, zoomed_box))\n",
        " "
      ],
      "execution_count": null,
      "outputs": []
    },
    {
      "cell_type": "markdown",
      "metadata": {
        "id": "dXPB6byii4ly"
      },
      "source": [
        "#### Data Inspection"
      ]
    },
    {
      "cell_type": "code",
      "metadata": {
        "id": "nuy470nijCjR"
      },
      "source": [
        "print('Shape of model images: {}'.format(np.shape(model_images)))\n",
        "print('Shape of model boxes: {}'.format(np.shape(model_boxes)))\n",
        "print('Shape of model heatmaps: {}'.format(np.shape(model_heatmaps)))"
      ],
      "execution_count": null,
      "outputs": []
    },
    {
      "cell_type": "code",
      "metadata": {
        "id": "QayV7E3cWa9b"
      },
      "source": [
        "n = 965\n",
        "\n",
        "plot_image(images[n], boxes[n])\n",
        "for idx in range(n * 2, n * 2 + 2):\n",
        "    plot_image(model_images[idx], model_boxes[idx], model_heatmaps[idx])\n"
      ],
      "execution_count": null,
      "outputs": []
    },
    {
      "cell_type": "markdown",
      "metadata": {
        "id": "C1N5hHb1lE0j"
      },
      "source": [
        "# Model Preparation"
      ]
    },
    {
      "cell_type": "markdown",
      "metadata": {
        "id": "14BMlbJgmXEv"
      },
      "source": [
        "## Model Creation"
      ]
    },
    {
      "cell_type": "code",
      "metadata": {
        "id": "bwG3r4SalAgM"
      },
      "source": [
        "model = Sequential()\n",
        "model.add(ResNet50(include_top=False, input_shape=np.shape(model_images)[1:]))\n",
        "model.add(Conv2DTranspose(256, [4, 4], strides=2,\n",
        "          padding='same'))\n",
        "model.add(LeakyReLU(alpha = 0.1))\n",
        "model.add(BatchNormalization())\n",
        "model.add(Conv2DTranspose(256, [4, 4], strides=2,\n",
        "          padding='same'))\n",
        "model.add(LeakyReLU(alpha = 0.1))\n",
        "model.add(BatchNormalization())\n",
        "model.add(Conv2DTranspose(256, [4, 4], strides=2,\n",
        "          padding='same'))\n",
        "model.add(LeakyReLU(alpha = 0.1))\n",
        "model.add(BatchNormalization())\n",
        "model.add(Conv2DTranspose(256, [4, 4], strides=2,\n",
        "          padding='same'))\n",
        "model.add(LeakyReLU(alpha = 0.1))\n",
        "model.add(BatchNormalization())\n",
        "model.add(Conv2DTranspose(4, [1, 1], strides=2,\n",
        "          padding='same', activation=None))\n",
        "\n",
        "plot_model(model, show_shapes=True)"
      ],
      "execution_count": null,
      "outputs": []
    },
    {
      "cell_type": "markdown",
      "metadata": {
        "id": "4nNWMt7YmHx8"
      },
      "source": [
        "### Output Adjustment"
      ]
    },
    {
      "cell_type": "code",
      "metadata": {
        "id": "7hbYH9O6mdTQ"
      },
      "source": [
        "print('Model output shape: {}'.format(model.output_shape))\n",
        "print('Heatmaps shape: {}'.format(np.shape(model_heatmaps)))"
      ],
      "execution_count": null,
      "outputs": []
    },
    {
      "cell_type": "code",
      "metadata": {
        "id": "3JITXxZgpU9k"
      },
      "source": [
        "padded_heatmaps = np.pad(model_heatmaps[:], ((0, 0), (10, 10), (0, 0), (0, 0)))"
      ],
      "execution_count": null,
      "outputs": []
    },
    {
      "cell_type": "code",
      "metadata": {
        "id": "46VcKQbfttWK"
      },
      "source": [
        "# input and output oughta be numpy arrays (or tensors)\n",
        "train_input = np.array(model_images)\n",
        "train_output = padded_heatmaps"
      ],
      "execution_count": null,
      "outputs": []
    },
    {
      "cell_type": "markdown",
      "metadata": {
        "id": "VOKmB18arlh-"
      },
      "source": [
        "### Inspection"
      ]
    },
    {
      "cell_type": "code",
      "metadata": {
        "id": "1T2NE3pTrr0l"
      },
      "source": [
        "print('Model input shape: {}'.format(model.input_shape))\n",
        "print('Train input shape: {}'.format(np.shape(train_input)))\n",
        "print('Model output shape: {}'.format(model.output_shape))\n",
        "print('Train output shape: {}'.format(np.shape(train_output)))"
      ],
      "execution_count": null,
      "outputs": []
    },
    {
      "cell_type": "code",
      "metadata": {
        "id": "mL7A6aTzpr_W"
      },
      "source": [
        "n = 45\n",
        "\n",
        "\n",
        "plot_image(heatmap=model_heatmaps[n])\n",
        "plot_image(heatmap=train_output[n])\n",
        "plot_image(model_heatmaps[n][:, :, 1])\n",
        "plot_image(train_output[n][:,:,1])"
      ],
      "execution_count": null,
      "outputs": []
    },
    {
      "cell_type": "markdown",
      "metadata": {
        "id": "TI8aSNbKtEl9"
      },
      "source": [
        "## Model Training"
      ]
    },
    {
      "cell_type": "code",
      "metadata": {
        "id": "_pwCeD81tHPw"
      },
      "source": [
        "# define necessary callbacks\n",
        "checkpointer = ModelCheckpoint(filepath=MODEL_FILE, monitor='val_mae',\n",
        "                               verbose=1, save_best_only=True, mode='min')\n",
        "\n",
        "# compile the model\n",
        "model.compile(optimizer='adam',\n",
        "              loss='mean_squared_error', metrics=['mae', 'acc'])\n",
        "\n",
        "# Train the model\n",
        "history = model.fit(train_input, train_output,\n",
        "                    epochs=NUM_EPOCHS, batch_size=BATCH_SIZE,\n",
        "                    validation_split=0.05, callbacks=[checkpointer])"
      ],
      "execution_count": null,
      "outputs": []
    },
    {
      "cell_type": "markdown",
      "metadata": {
        "id": "PZCL19kqxN1C"
      },
      "source": [
        "### Model Persist"
      ]
    },
    {
      "cell_type": "code",
      "metadata": {
        "id": "WkFsRvv-107B"
      },
      "source": [
        "model.save(LAST_MODEL_FILE)\n",
        "persist(BEST_MODEL_FILE)\n",
        "persist(LAST_MODEL_FILE)"
      ],
      "execution_count": null,
      "outputs": []
    },
    {
      "cell_type": "markdown",
      "metadata": {
        "id": "cNMF-4Zt7Rph"
      },
      "source": [
        "### Learning Curves"
      ]
    },
    {
      "cell_type": "code",
      "metadata": {
        "id": "QjlnW8z1JKI_"
      },
      "source": [
        "start = 4\n",
        "\n",
        "# summarize history for mean_absolute_error\n",
        "try:\n",
        "    plt.plot(history.history['mae'][start:])\n",
        "    plt.plot(history.history['val_mae'][start:])\n",
        "    plt.title('Mean Absolute Error vs Epoch')\n",
        "    plt.ylabel('Mean Absolute Error')\n",
        "    plt.xlabel('Epochs')\n",
        "    plt.legend(['train', 'validation'], loc='upper right')\n",
        "    plt.show()\n",
        "    # summarize history for accuracy\n",
        "    plt.plot(history.history['acc'][start:])\n",
        "    plt.plot(history.history['val_acc'][start:])\n",
        "    plt.title('Accuracy vs Epoch')\n",
        "    plt.ylabel('Accuracy')\n",
        "    plt.xlabel('Epochs')\n",
        "    plt.legend(['train', 'validation'], loc='upper left')\n",
        "    plt.show()\n",
        "    # summarize history for loss\n",
        "    plt.plot(history.history['loss'][start:])\n",
        "    plt.plot(history.history['val_loss'][start:])\n",
        "    plt.title('Loss vs Epoch')\n",
        "    plt.ylabel('Loss')\n",
        "    plt.xlabel('Epochs')\n",
        "    plt.legend(['train', 'validation'], loc='upper left')\n",
        "    plt.show()\n",
        "except:\n",
        "    print(\"One of the metrics used for plotting graphs is missing! See 'model.compile()'s `metrics` argument.\")"
      ],
      "execution_count": null,
      "outputs": []
    },
    {
      "cell_type": "markdown",
      "metadata": {
        "id": "uJQlty8Rxb87"
      },
      "source": [
        "### Predictions on Training Data"
      ]
    },
    {
      "cell_type": "code",
      "metadata": {
        "id": "Ku5wOYBf7YxA"
      },
      "source": [
        "test_preds = model.predict(train_input)"
      ],
      "execution_count": null,
      "outputs": []
    },
    {
      "cell_type": "code",
      "metadata": {
        "id": "FImTzzfY8M6n"
      },
      "source": [
        "n = 290\n",
        "p = 2\n",
        "\n",
        "plot_image(train_input[n], heatmap_to_box(test_preds[n, 10:-10, :, :]))\n",
        "plot_image(train_output[n, :, :, p])\n",
        "plot_image(test_preds[n, :, :, p])"
      ],
      "execution_count": null,
      "outputs": []
    },
    {
      "cell_type": "markdown",
      "metadata": {
        "id": "CjAcGXi_7rDs"
      },
      "source": [
        "## Model Restore"
      ]
    },
    {
      "cell_type": "code",
      "metadata": {
        "id": "9-axaYOq7u_H"
      },
      "source": [
        "#MODEL_FILE = BEST_MODEL_FILE\n",
        "MODEL_FILE = LAST_MODEL_FILE\n",
        "\n",
        "restore(MODEL_FILE)\n",
        "model = load_model(MODEL_FILE)"
      ],
      "execution_count": null,
      "outputs": []
    },
    {
      "cell_type": "markdown",
      "metadata": {
        "id": "Lf1BvhuK7zTP"
      },
      "source": [
        "## Predictions on New Data"
      ]
    },
    {
      "cell_type": "code",
      "metadata": {
        "id": "yC8KJJj1_QV1"
      },
      "source": [
        "FRAMES_PATH = '../drive/My Drive/colab-data'\n",
        "\n",
        "for idx in range(1, 21):\n",
        "    frame = mpimg.imread(os.path.join(FRAMES_PATH,\n",
        "                                      'frame-%d.jpg' % idx))\n",
        "    frame = scale(frame, np.shape(train_input)[1:3])\n",
        "    pred = model.predict(np.array([frame]))\n",
        "\n",
        "    plot_image(frame, heatmap_to_box(pred[0, 10:-10, :, :], threshold=0.1))"
      ],
      "execution_count": null,
      "outputs": []
    },
    {
      "cell_type": "code",
      "metadata": {
        "id": "xec-QQR0msa8"
      },
      "source": [
        "FRAMES_PATH = '../drive/My Drive/colab-data'\n",
        "\n",
        "frame = mpimg.imread(os.path.join(FRAMES_PATH, 'frame-4.jpg'))\n",
        "frame = scale(frame, np.shape(train_input)[1:3])\n",
        "pred = model.predict(np.array([frame]))\n",
        "for p in range(4):\n",
        "    plot_image(pred[0, :, :, p])"
      ],
      "execution_count": null,
      "outputs": []
    }
  ]
}
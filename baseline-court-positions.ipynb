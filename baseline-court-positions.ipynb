{
  "nbformat": 4,
  "nbformat_minor": 0,
  "metadata": {
    "colab": {
      "name": "baseline-court-positions.ipynb",
      "provenance": [],
      "collapsed_sections": [
        "z-Z0idFyaRV9"
      ],
      "toc_visible": true,
      "mount_file_id": "1uQ9MYFAj1ZPYMvrBLl3y1J2AWkibTAc9",
      "authorship_tag": "ABX9TyMUVbkHyHOBaMJ5fNsEYIzR"
    },
    "kernelspec": {
      "name": "python3",
      "display_name": "Python 3"
    },
    "accelerator": "GPU"
  },
  "cells": [
    {
      "cell_type": "markdown",
      "metadata": {
        "id": "ygoII-vrKGbA"
      },
      "source": [
        "# Baseline estimation of player positions on the squash court\n",
        "\n",
        "This notebook trains a convolutional neural network inspired by [Simple Baselines for Human Pose Estimation and Tracking\n",
        "](https://paperswithcode.com/paper/simple-baselines-for-human-pose-estimation) on the [SquashAI player position dataset](https://github.com/squashai/datasets).\n",
        "\n",
        "[![Open In Colab](https://colab.research.google.com/assets/colab-badge.svg)](https://colab.research.google.com/github/squashai/notebooks/blob/main/baseline-court-positions.ipynb) [![View source on Github](https://img.shields.io/badge/-View%20source%20on%20Github-blue?logo=github&labelColor=black)](https://github.com/squashai/notebooks/blob/main/baseline-court-positions.ipynb)\n"
      ]
    },
    {
      "cell_type": "markdown",
      "metadata": {
        "id": "Qv16D_9wDAz0"
      },
      "source": [
        "# Initialization"
      ]
    },
    {
      "cell_type": "markdown",
      "metadata": {
        "id": "ZYIVlnf0DU0N"
      },
      "source": [
        "## Dataset Retrievial"
      ]
    },
    {
      "cell_type": "code",
      "metadata": {
        "id": "jY2pbHwD8aJG"
      },
      "source": [
        "!curl -L --output datasets+img.tar.gz https://github.com/squashai/datasets/releases/download/0.0.5/datasets+img.tar.gz\n",
        "!tar zxf datasets+img.tar.gz"
      ],
      "execution_count": null,
      "outputs": []
    },
    {
      "cell_type": "code",
      "metadata": {
        "id": "aiOEILuo5FVy"
      },
      "source": [
        "%cd /content/datasets+img/"
      ],
      "execution_count": null,
      "outputs": []
    },
    {
      "cell_type": "markdown",
      "metadata": {
        "id": "JIAUn-pTDh69"
      },
      "source": [
        "## Imports and Variables"
      ]
    },
    {
      "cell_type": "code",
      "metadata": {
        "id": "K7yPNdqYV-mP"
      },
      "source": [
        "# imports for data and model handling\n",
        "import glob\n",
        "import os\n",
        "import json\n",
        "import numpy as np\n",
        "import matplotlib.pyplot as plt\n",
        "import matplotlib.image as mpimg\n",
        "import matplotlib.gridspec as gridspec\n",
        "import cv2\n",
        "import shutil\n",
        "from random import random\n",
        "from math import floor, log10\n",
        "from tensorflow import keras\n",
        "from keras.models import Sequential, Model, load_model\n",
        "from keras.layers import (\n",
        "    Conv2D, Conv2DTranspose, BatchNormalization, LeakyReLU, MaxPool2D,\n",
        "    Flatten, Dense, Dropout\n",
        ")\n",
        "from keras.callbacks import ReduceLROnPlateau, ModelCheckpoint\n",
        "from keras.optimizers import Adam\n",
        "from keras.applications import ResNet50\n",
        "from keras.utils import plot_model"
      ],
      "execution_count": null,
      "outputs": []
    },
    {
      "cell_type": "code",
      "metadata": {
        "id": "SFpiGQjBLaJg"
      },
      "source": [
        "# downloaded dataset\n",
        "DATASET_DIR = '.'\n",
        "DATASET_IMAGES_DIR = 'media/images'\n",
        "\n",
        "# image size for model training and testing\n",
        "#   height/width ratio should be same as images': 720/1280)\n",
        "MODEL_INPUT_SIZE = (108, 192)\n",
        "\n",
        "# court size, used for adjusting player coordinates and for\n",
        "# creating model heatmaps\n",
        "#   height/width ratio should be same as court's: 975/640\n",
        "COURT_SIZE = (195, 128)\n",
        "\n",
        "# gaussian Sigma for model heatmaps\n",
        "HEATMAP_SIGMA = 10\n",
        "\n",
        "# zoom factor\n",
        "MAX_ZOOM_FACTOR = 1.3\n",
        "\n",
        "# model variables\n",
        "NUM_EPOCHS = 100\n",
        "BATCH_SIZE = 128\n",
        "BEST_MODEL_FILE = 'best_funky_model.hdf5'\n",
        "LAST_MODEL_FILE = 'last_funky_model.hdf5'\n",
        "\n",
        "# path to final store for models (should be persistent)\n",
        "PERSISTENT_MODELS_DIR = '/content/drive/My Drive/colab-data'"
      ],
      "execution_count": null,
      "outputs": []
    },
    {
      "cell_type": "code",
      "metadata": {
        "id": "ZiNTo-llX2xZ"
      },
      "source": [
        "# dataset data\n",
        "images = []\n",
        "positions = []\n",
        "\n",
        "# background image for positions and heatmaps\n",
        "ground = None\n",
        "\n",
        "# train, test and evaluation data\n",
        "model_images = []\n",
        "model_positions = []\n",
        "model_heatmaps = []"
      ],
      "execution_count": null,
      "outputs": []
    },
    {
      "cell_type": "markdown",
      "metadata": {
        "id": "no4Km65gYi4u"
      },
      "source": [
        "## Data Preparation"
      ]
    },
    {
      "cell_type": "markdown",
      "metadata": {
        "id": "dUiMKKeoaK1H"
      },
      "source": [
        "### Helper Functions"
      ]
    },
    {
      "cell_type": "code",
      "metadata": {
        "id": "H1IZtGWgETPf"
      },
      "source": [
        "def adjust_position(position, output_size=COURT_SIZE):\n",
        "    new_h, new_w = output_size\n",
        "    position = position * [100, -100]\n",
        "    position = position + [640 / 2, 975 / 2]\n",
        "    position = position * [new_w / 640, new_h / 975]\n",
        "    return position"
      ],
      "execution_count": null,
      "outputs": []
    },
    {
      "cell_type": "markdown",
      "metadata": {
        "id": "z-Z0idFyaRV9"
      },
      "source": [
        "#### Tests"
      ]
    },
    {
      "cell_type": "code",
      "metadata": {
        "id": "bbdND8N2aUPO"
      },
      "source": [
        "tl = np.array([-3.2, 4.875])\n",
        "tr = np.array([3.2, 4.875])\n",
        "bl = np.array([-3.2, -4.875])\n",
        "br = np.array([3.2, -4.875])\n",
        "print('tl: {} => {}'.format(tl, adjust_position(tl)))\n",
        "print('tr: {} => {}'.format(tr, adjust_position(tr)))\n",
        "print('bl: {} => {}'.format(bl, adjust_position(bl)))\n",
        "print('br: {} => {}'.format(br, adjust_position(br)))"
      ],
      "execution_count": null,
      "outputs": []
    },
    {
      "cell_type": "markdown",
      "metadata": {
        "id": "kkAAfPMDMLp5"
      },
      "source": [
        "### Data Extraction"
      ]
    },
    {
      "cell_type": "code",
      "metadata": {
        "id": "Gostw7dZMSRe"
      },
      "source": [
        "images.clear()\n",
        "positions.clear()\n",
        "\n",
        "for data_file in os.listdir(DATASET_DIR)[:]:\n",
        "    if not data_file.startswith('.') and data_file.endswith('.json'):\n",
        "        with open(data_file) as fd:\n",
        "            data = json.load(fd)\n",
        "        tlen = 1\n",
        "        for label in data['labels']:\n",
        "            if label['time'] > 0:\n",
        "                tlen = max(tlen, floor(log10(label['time'] * 1000)) + 1)\n",
        "\n",
        "        for label in data['labels']:\n",
        "            time = label['time'] * 1000\n",
        "            image_file = os.path.join(DATASET_IMAGES_DIR,\n",
        "                                      '%s-%0*d.jpg' % (data_file[:-5],\n",
        "                                                       tlen, time))\n",
        "            #image = np.array(cv2.imread(image_file, cv2.IMREAD_GRAYSCALE))\n",
        "            image = np.array(mpimg.imread(image_file))\n",
        "            #image = cv2.cvtColor(image, cv2.COLOR_RGB2GRAY)\n",
        "            images.append(image)\n",
        "\n",
        "            players = []\n",
        "            for id in ['1', '2']:\n",
        "                if label['players'][id]['visible'] is True:\n",
        "                    players.append(adjust_position(np.array([\n",
        "                        label['players'][id]['x'],\n",
        "                        label['players'][id]['y']\n",
        "                    ], dtype=np.float16)))\n",
        "                    players.sort(key=lambda p: p[0] * p[0] + p[1] * p[1])\n",
        "                else:\n",
        "                    players.append(np.array([float('NaN'), float('NaN')],\n",
        "                                            dtype=np.float16))\n",
        "            positions.append(players)\n",
        "            "
      ],
      "execution_count": null,
      "outputs": []
    },
    {
      "cell_type": "markdown",
      "metadata": {
        "id": "17PWshZxN4hR"
      },
      "source": [
        "#### Inspection"
      ]
    },
    {
      "cell_type": "code",
      "metadata": {
        "id": "yg19a7iaNzYF"
      },
      "source": [
        "print('Shape of images: {}'.format(np.shape(images)))\n",
        "print('Shape of positions: {}'.format(np.shape(positions)))"
      ],
      "execution_count": null,
      "outputs": []
    },
    {
      "cell_type": "markdown",
      "metadata": {
        "id": "SVlKHjnMOmgJ"
      },
      "source": [
        "### Helper Functions"
      ]
    },
    {
      "cell_type": "markdown",
      "metadata": {
        "id": "iCJQDn1nO4aU"
      },
      "source": [
        "#### Plotting Functions"
      ]
    },
    {
      "cell_type": "code",
      "metadata": {
        "id": "wX_BALsv00x_"
      },
      "source": [
        "!wget -O ground.png https://raw.githubusercontent.com/squashai/squashai/master/src/assets/ground.png"
      ],
      "execution_count": null,
      "outputs": []
    },
    {
      "cell_type": "code",
      "metadata": {
        "id": "Fj_zaA-f06Z7"
      },
      "source": [
        "ground = np.array(mpimg.imread('ground.png'))[:, :, :3]\n",
        "ground = cv2.resize(ground, (COURT_SIZE[1], COURT_SIZE[0]),\n",
        "                    interpolation=cv2.INTER_AREA)\n"
      ],
      "execution_count": null,
      "outputs": []
    },
    {
      "cell_type": "code",
      "metadata": {
        "id": "iWn6u-hrS4EW"
      },
      "source": [
        "def plot_image(image=None, players=None, heatmap=None):\n",
        "\n",
        "    fig = plt.figure(figsize=(20, 7))\n",
        "    if players is None and heatmap is None:\n",
        "        pic = fig.subplots()\n",
        "    else:\n",
        "        gs = fig.add_gridspec(1, 3)\n",
        "        pic = fig.add_subplot(gs[0, :-1])\n",
        "        graph = fig.add_subplot(gs[0, -1])\n",
        "        graph.imshow(ground)\n",
        "\n",
        "    if image is not None:\n",
        "        if hasattr(image, 'dtype') and image.dtype == np.float16:\n",
        "            pic.imshow(np.array(image, dtype=np.float32))\n",
        "        else:\n",
        "            pic.imshow(image)\n",
        "\n",
        "    if players is not None:\n",
        "        for player in players:\n",
        "            if not np.any(np.isnan(player)):\n",
        "                graph.scatter(*player,\n",
        "                              s=50, marker='.', color='red')\n",
        "\n",
        "    if heatmap is not None:\n",
        "        h, w = np.shape(heatmap)[:2]\n",
        "        n = np.shape(heatmap)[-1]\n",
        "\n",
        "        rgba = np.zeros((h, w, 4))\n",
        "        rgba[:, :, 1] = heatmap[:h, :w, 0]\n",
        "        rgba[:, :, 3] = heatmap[:h, :w, 0]\n",
        "        if np.shape(heatmap)[2] > 1:\n",
        "            rgba[:, :, 2] = heatmap[:h, :w, 1]\n",
        "            rgba[:, :, 3] += heatmap[:h, :w, 1]\n",
        "\n",
        "        max_val = rgba.max()\n",
        "        if max_val > 0:\n",
        "            rgba *= (1 / max_val)\n",
        "        rgba[rgba < 0] = 0\n",
        "\n",
        "        graph.imshow(rgba)\n",
        "\n",
        "    plt.show()"
      ],
      "execution_count": null,
      "outputs": []
    },
    {
      "cell_type": "markdown",
      "metadata": {
        "id": "HB2oZ0uUPAWO"
      },
      "source": [
        "##### Tests"
      ]
    },
    {
      "cell_type": "code",
      "metadata": {
        "id": "QedEX0GIPE3l"
      },
      "source": [
        "n = 900\n",
        "\n",
        "image = images[n]\n",
        "players = positions[n]\n",
        "\n",
        "plot_image(image)\n",
        "plot_image(image, players)"
      ],
      "execution_count": null,
      "outputs": []
    },
    {
      "cell_type": "markdown",
      "metadata": {
        "id": "NU0t4PtiATSb"
      },
      "source": [
        "#### Heatmap Functions"
      ]
    },
    {
      "cell_type": "code",
      "metadata": {
        "id": "x5B7cmghAVss"
      },
      "source": [
        "def position_to_layer(position, output_size, sigma):\n",
        "    if np.any(np.isnan(position)):\n",
        "        return np.zeros(output_size, dtype=np.float16)\n",
        "    else:\n",
        "        x0, y0 = position\n",
        "        h, w = output_size\n",
        "        if np.any(np.isnan(position)):\n",
        "            return np.zeros(output_size, dtype=np.float16)\n",
        "        x = np.arange(0, w, 1, dtype=np.float16)\n",
        "        y = np.arange(0, h, 1, dtype=np.float16)[:, np.newaxis]\n",
        "        return np.exp(-((x - x0) ** 2 + (y - y0) ** 2) / (2 * sigma ** 2))\n",
        "\n",
        "def positions_to_heatmap(positions, output_size, sigma):\n",
        "    h, w = output_size\n",
        "    heatmap = np.zeros((h, w, len(positions)), dtype=np.float16)\n",
        "    for idx in range(len(positions)):\n",
        "        heatmap[:, :, idx] = position_to_layer(positions[idx],\n",
        "                                               output_size, sigma)\n",
        "    return heatmap"
      ],
      "execution_count": null,
      "outputs": []
    },
    {
      "cell_type": "code",
      "metadata": {
        "id": "7336TphegwIA"
      },
      "source": [
        "def layer_to_position(hm_layer, num_points=4, threshold=0.2):\n",
        "    ## pick the largest num_points\n",
        "    ind = hm_layer.argsort(axis=None)[-num_points:]\n",
        "    topind = np.unravel_index(ind, np.shape(hm_layer))\n",
        "    index = np.unravel_index(hm_layer.argmax(), np.shape(hm_layer))\n",
        "    y, x, hsum = 0, 0, 0\n",
        "    for ind in zip(topind[0],topind[1]):\n",
        "        h  = hm_layer[ind[0],ind[1]]\n",
        "        hsum += h\n",
        "        y   += ind[0]*h\n",
        "        x   += ind[1]*h\n",
        "\n",
        "    if hsum / num_points <= threshold:\n",
        "        y, x = float('NaN'), float('NaN')\n",
        "    else:\n",
        "        y /= hsum\n",
        "        x /= hsum\n",
        " \n",
        "    return [x, y]\n",
        "\n",
        "def heatmap_to_positions(heatmap, num_points=4, threshold=0.2):\n",
        "    positions = []\n",
        "    for l in range(np.shape(heatmap)[-1]):\n",
        "        positions.append(layer_to_position(heatmap[:, :, l],\n",
        "                                           num_points, threshold))\n",
        "\n",
        "    return positions"
      ],
      "execution_count": null,
      "outputs": []
    },
    {
      "cell_type": "markdown",
      "metadata": {
        "id": "khT_EptQM_i2"
      },
      "source": [
        "##### Tests"
      ]
    },
    {
      "cell_type": "code",
      "metadata": {
        "id": "GopATj4Q-edY"
      },
      "source": [
        "n = 90\n",
        "\n",
        "image = images[n]\n",
        "players = positions[n]\n",
        "heatmap = positions_to_heatmap(players, COURT_SIZE, 10)\n",
        "\n",
        "plot_image(image, players)\n",
        "plot_image(image, heatmap=heatmap, players=players)\n",
        "plot_image(image, players=heatmap_to_positions(heatmap))\n",
        "for idx in range(np.shape(heatmap)[-1]):\n",
        "    plot_image(heatmap[:, :, idx])"
      ],
      "execution_count": null,
      "outputs": []
    },
    {
      "cell_type": "markdown",
      "metadata": {
        "id": "D_dEBBmTPYLF"
      },
      "source": [
        "#### Scaling Functions"
      ]
    },
    {
      "cell_type": "code",
      "metadata": {
        "id": "8WKWPpxmPe1A"
      },
      "source": [
        "def scale_image(image, output_size):\n",
        "    h, w = image.shape[:2]\n",
        "    if isinstance(output_size, int):\n",
        "        if h > w:\n",
        "            new_h, new_w = output_size * h / w, output_size\n",
        "        else:\n",
        "            new_h, new_w = output_size, output_size * w / h\n",
        "    else:\n",
        "        new_h, new_w = output_size\n",
        "\n",
        "    new_h, new_w = int(new_h), int(new_w)\n",
        "    new_image = cv2.resize(image, (new_w, new_h))\n",
        "    return new_image\n",
        "\n",
        "scale = scale_image"
      ],
      "execution_count": null,
      "outputs": []
    },
    {
      "cell_type": "markdown",
      "metadata": {
        "id": "x9Y7AJC4QTOT"
      },
      "source": [
        "##### Tests"
      ]
    },
    {
      "cell_type": "code",
      "metadata": {
        "id": "_p345VcSQVAO"
      },
      "source": [
        "n = 20\n",
        "downscale = (72, 128)\n",
        "upscale = (1080, 1920)\n",
        "\n",
        "image = images[n]\n",
        "players = positions[n]\n",
        "small_image = scale(image, downscale)\n",
        "heatmap = positions_to_heatmap(players, COURT_SIZE, 10)\n",
        "\n",
        "plot_image(image, players)\n",
        "plot_image(small_image, heatmap=heatmap)\n",
        "plot_image(small_image, players, heatmap)"
      ],
      "execution_count": null,
      "outputs": []
    },
    {
      "cell_type": "markdown",
      "metadata": {
        "id": "dcQFz1evTN5-"
      },
      "source": [
        "#### Cropping Functions"
      ]
    },
    {
      "cell_type": "code",
      "metadata": {
        "id": "Y0uQNzBpTBRE"
      },
      "source": [
        "def crop_image(image, output_size):\n",
        "    h, w = image.shape[:2]\n",
        "    if isinstance(output_size, int):\n",
        "        new_h, new_w = (output_size, output_size)\n",
        "    else:\n",
        "        new_h, new_w = output_size\n",
        "    top = int((h - new_h) / 2)\n",
        "    left = int((w - new_w) / 2)\n",
        "\n",
        "    image = image[top : top + new_h,\n",
        "                  left : left + new_w]\n",
        "    return image\n",
        "\n",
        "crop = crop_image\n"
      ],
      "execution_count": null,
      "outputs": []
    },
    {
      "cell_type": "markdown",
      "metadata": {
        "id": "j8tK1YKMVBC_"
      },
      "source": [
        "##### Tests"
      ]
    },
    {
      "cell_type": "code",
      "metadata": {
        "id": "RiLEXBfFTRvE"
      },
      "source": [
        "n = 20\n",
        "downsize = (500, 500)\n",
        "\n",
        "image = images[n]\n",
        "players = positions[n]\n",
        "small_image = crop(image, downsize)\n",
        "heatmap = positions_to_heatmap(players, COURT_SIZE, 15)\n",
        "\n",
        "plot_image(image, players)\n",
        "plot_image(small_image, heatmap=heatmap)\n",
        "plot_image(small_image, players, heatmap)"
      ],
      "execution_count": null,
      "outputs": []
    },
    {
      "cell_type": "markdown",
      "metadata": {
        "id": "ICcuM-h2mtX1"
      },
      "source": [
        "#### Zoom Functions"
      ]
    },
    {
      "cell_type": "code",
      "metadata": {
        "id": "nPp1MmYMmp7h"
      },
      "source": [
        "def zoom_image(image, factor):\n",
        "    new_size = np.array(image.shape[:2]) * factor\n",
        "    new_image = scale_image(image, new_size)\n",
        "    return crop_image(new_image, np.shape(image)[:2])\n",
        "\n",
        "\n",
        "zoom = zoom_image"
      ],
      "execution_count": null,
      "outputs": []
    },
    {
      "cell_type": "markdown",
      "metadata": {
        "id": "vKhGGANcnUqk"
      },
      "source": [
        "##### Tests"
      ]
    },
    {
      "cell_type": "code",
      "metadata": {
        "id": "g3fYyW_OnWsd"
      },
      "source": [
        "n = 11\n",
        "factor = 1.6\n",
        "\n",
        "image = images[n]\n",
        "players = positions[n]\n",
        "zoomed_image = zoom(image, factor)\n",
        "heatmap = positions_to_heatmap(players, COURT_SIZE, 20)\n",
        "\n",
        "plot_image(image, players)\n",
        "plot_image(zoomed_image, players, heatmap)"
      ],
      "execution_count": null,
      "outputs": []
    },
    {
      "cell_type": "markdown",
      "metadata": {
        "id": "Y4leWHIcYW9B"
      },
      "source": [
        "#### Flipping Functions"
      ]
    },
    {
      "cell_type": "code",
      "metadata": {
        "id": "yUHxeoWTYbt6"
      },
      "source": [
        "def flip_image(image):\n",
        "    if hasattr(image, 'dtype') and image.dtype == np.float16:\n",
        "        image = cv2.flip(np.array(image, dtype=np.float32), 1)\n",
        "        return np.array(image, dtype=np.float16)\n",
        "    else:\n",
        "        return cv2.flip(image, 1)\n",
        "\n",
        "def flip_positions(positions, input_size):\n",
        "    center = input_size[1] / 2\n",
        "    new_pos = np.array(positions)\n",
        "    new_pos[:, 0] = 2 * center - new_pos[:, 0]\n",
        "    new_pos = list(new_pos)\n",
        "    new_pos.sort(key=lambda p: p[0] * p[0] + p[1] * p[1])\n",
        "    return np.array(new_pos)\n",
        "\n",
        "def flip(image, positions=None, input_size=COURT_SIZE):\n",
        "    new_img = flip_image(image)\n",
        "    if positions is not None:\n",
        "        new_pos = flip_positions(positions, input_size)\n",
        "        return new_img, new_pos\n",
        "    return new_img"
      ],
      "execution_count": null,
      "outputs": []
    },
    {
      "cell_type": "markdown",
      "metadata": {
        "id": "HObExz07ZQO9"
      },
      "source": [
        "##### Tests"
      ]
    },
    {
      "cell_type": "code",
      "metadata": {
        "id": "du3Dic6OZSaE"
      },
      "source": [
        "n = 40\n",
        "\n",
        "image = images[n]\n",
        "players = positions[n]\n",
        "heatmap = positions_to_heatmap(players, COURT_SIZE, 20)\n",
        "flipped_image, flipped_players = flip(image, players)\n",
        "flipped_heatmap = positions_to_heatmap(flipped_players,\n",
        "                                       COURT_SIZE, 20)\n",
        "\n",
        "plot_image(image, players, heatmap)\n",
        "plot_image(flipped_image, flipped_players, flipped_heatmap)"
      ],
      "execution_count": null,
      "outputs": []
    },
    {
      "cell_type": "markdown",
      "metadata": {
        "id": "eXYtYsd2W06L"
      },
      "source": [
        "#### Persistance Functions"
      ]
    },
    {
      "cell_type": "code",
      "metadata": {
        "id": "Tw-cSTI8W7m1"
      },
      "source": [
        "def persist(filename):\n",
        "    shutil.copy(filename, os.path.join(PERSISTENT_MODELS_DIR, filename))\n",
        "\n",
        "def restore(filename):\n",
        "    shutil.copy(os.path.join(PERSISTENT_MODELS_DIR, filename), filename)\n",
        "\n",
        "def unpersist(filename):\n",
        "    os.remove(os.path.join(PERSISTENT_MODELS_DIR, filename))"
      ],
      "execution_count": null,
      "outputs": []
    },
    {
      "cell_type": "markdown",
      "metadata": {
        "id": "Eq9QsrbSYFjJ"
      },
      "source": [
        "##### Tests"
      ]
    },
    {
      "cell_type": "code",
      "metadata": {
        "id": "XreKJcN8YIDk"
      },
      "source": [
        "!echo Hi > foobar\n",
        "persist('foobar')\n",
        "!rm foobar\n",
        "!stat foobar\n",
        "restore('foobar')\n",
        "!cat foobar\n",
        "!rm foobar\n",
        "unpersist('foobar')\n",
        "try:\n",
        "    restore('foobar')\n",
        "except:\n",
        "    print('`restore()` correctly failed')"
      ],
      "execution_count": null,
      "outputs": []
    },
    {
      "cell_type": "markdown",
      "metadata": {
        "id": "wZhM11sRVGXi"
      },
      "source": [
        "### Data Augmentation"
      ]
    },
    {
      "cell_type": "code",
      "metadata": {
        "id": "lRuZfX2-VKjE"
      },
      "source": [
        "model_images.clear()\n",
        "model_positions.clear()\n",
        "model_heatmaps.clear()\n",
        "\n",
        "def store(image, players, heatmap):\n",
        "    # let's convert images from [0:255] to [0:1]\n",
        "    if np.max(image) > 1:\n",
        "        image = np.divide(image, 255, dtype=np.float16)\n",
        "    model_images.append(image)\n",
        "    model_positions.append(players)\n",
        "    model_heatmaps.append(heatmap)\n",
        "    return image, players, heatmap\n",
        "\n",
        "def downscale_and_store(image, players):\n",
        "    scaled_image = scale(image, MODEL_INPUT_SIZE)\n",
        "    heatmap = positions_to_heatmap(players, COURT_SIZE, HEATMAP_SIGMA)\n",
        "    return store(scaled_image, players, heatmap)[:2]\n",
        "\n",
        "def flip_and_store(image, players):\n",
        "    flipped_image, flipped_players = flip(image, players)\n",
        "    flipped_heatmap = positions_to_heatmap(flipped_players,\n",
        "                                           COURT_SIZE, HEATMAP_SIGMA)\n",
        "    return store(flipped_image, flipped_players, flipped_heatmap)[:2]\n",
        "\n",
        "\n",
        "for idx in range(len(images[:])):\n",
        "    # downscale and store\n",
        "    #downscale_and_store(images[idx], boxes[idx])\n",
        "\n",
        "    # downscale original and store, then flip and store again\n",
        "    flip_and_store(*downscale_and_store(images[idx], positions[idx]))\n",
        " \n",
        "    # zoom original...\n",
        "    zoomed_image = zoom(images[idx],\n",
        "                        random() * (MAX_ZOOM_FACTOR - 1) + 1)\n",
        "\n",
        "    # ... then downscale zoomed and store, then flip zoomed downscaled\n",
        "    # and store\n",
        "    flip_and_store(*downscale_and_store(zoomed_image, positions[idx]))\n",
        " "
      ],
      "execution_count": null,
      "outputs": []
    },
    {
      "cell_type": "markdown",
      "metadata": {
        "id": "dXPB6byii4ly"
      },
      "source": [
        "#### Data Inspection"
      ]
    },
    {
      "cell_type": "code",
      "metadata": {
        "id": "nuy470nijCjR"
      },
      "source": [
        "print('Shape of model images: {}'.format(np.shape(model_images)))\n",
        "print('Shape of model positions: {}'.format(np.shape(model_positions)))\n",
        "print('Shape of model heatmaps: {}'.format(np.shape(model_heatmaps)))"
      ],
      "execution_count": null,
      "outputs": []
    },
    {
      "cell_type": "code",
      "metadata": {
        "id": "QayV7E3cWa9b"
      },
      "source": [
        "n = 5\n",
        "\n",
        "plot_image(images[n], positions[n])\n",
        "for idx in range(n * 4, n * 4 + 4):\n",
        "    plot_image(model_images[idx], model_positions[idx], model_heatmaps[idx])\n"
      ],
      "execution_count": null,
      "outputs": []
    },
    {
      "cell_type": "markdown",
      "metadata": {
        "id": "C1N5hHb1lE0j"
      },
      "source": [
        "# Model Preparation"
      ]
    },
    {
      "cell_type": "markdown",
      "metadata": {
        "id": "6pkgvcQUKf9U"
      },
      "source": [
        "## Model Creation"
      ]
    },
    {
      "cell_type": "code",
      "metadata": {
        "id": "cgbvVOb3Klxn"
      },
      "source": [
        "model = Sequential()\n",
        "model.add(ResNet50(include_top=False, input_shape=np.shape(model_images)[1:]))\n",
        "\n",
        "model.add(Conv2DTranspose(128, [4, 4], strides=[4, 4], \n",
        "                          padding='same'))\n",
        "model.add(LeakyReLU(alpha = 0.1))\n",
        "model.add(BatchNormalization())\n",
        "\n",
        "model.add(Conv2DTranspose(64, [4, 4], strides=[3, 3],\n",
        "                          padding='same'))\n",
        "model.add(LeakyReLU(alpha = 0.1))\n",
        "model.add(BatchNormalization())\n",
        "model.add(Conv2DTranspose(32, [4, 4], strides=[4, 2],\n",
        "          output_padding=(3,0)))\n",
        "model.add(LeakyReLU(alpha = 0.1))\n",
        "model.add(BatchNormalization())\n",
        "model.add(Conv2DTranspose(1, [1, 1], strides=[1, 1],\n",
        "          padding='same', activation=None))\n",
        "\n",
        "plot_model(model, show_shapes=True)"
      ],
      "execution_count": null,
      "outputs": []
    },
    {
      "cell_type": "markdown",
      "metadata": {
        "id": "vQhbnMf5OT2W"
      },
      "source": [
        "### Output Adjustment"
      ]
    },
    {
      "cell_type": "code",
      "metadata": {
        "id": "l62cWu5aOT2Y"
      },
      "source": [
        "print('Model output shape: {}'.format(model.output_shape))\n",
        "print('Heatmaps shape: {}'.format(np.shape(model_heatmaps)))"
      ],
      "execution_count": null,
      "outputs": []
    },
    {
      "cell_type": "code",
      "metadata": {
        "id": "Qv9sl7muOobC"
      },
      "source": [
        "# input and output oughta be numpy arrays (or tensors)\n",
        "train_input = np.array(model_images)\n",
        "train_output = np.array(model_heatmaps)\n",
        "train_output = np.maximum(train_output[:, :, :, 0], train_output[:, :, :, 1])\n",
        "train_output = np.reshape(train_output, (-1, 195, 128, 1))\n",
        "train_output = np.pad(train_output, ((0,0), (0,0), (9,9), (0,0)))"
      ],
      "execution_count": null,
      "outputs": []
    },
    {
      "cell_type": "markdown",
      "metadata": {
        "id": "Va6Cj6fhPw3U"
      },
      "source": [
        "### Inspection"
      ]
    },
    {
      "cell_type": "code",
      "metadata": {
        "id": "jmCv_nnNPQNC"
      },
      "source": [
        "print('Model input shape: {}'.format(model.input_shape))\n",
        "print('Train input shape: {}'.format(np.shape(train_input)))\n",
        "print('Model output shape: {}'.format(model.output_shape))\n",
        "print('Train output shape: {}'.format(np.shape(train_output)))"
      ],
      "execution_count": null,
      "outputs": []
    },
    {
      "cell_type": "code",
      "metadata": {
        "id": "AMTpZTElPQNE"
      },
      "source": [
        "n = 450\n",
        "\n",
        "\n",
        "plot_image(model_images[n], heatmap=model_heatmaps[n])\n",
        "plot_image(train_input[n], heatmap=train_output[n, :, 9:-9, :])"
      ],
      "execution_count": null,
      "outputs": []
    },
    {
      "cell_type": "markdown",
      "metadata": {
        "id": "TI8aSNbKtEl9"
      },
      "source": [
        "## Model Training"
      ]
    },
    {
      "cell_type": "code",
      "metadata": {
        "id": "_pwCeD81tHPw"
      },
      "source": [
        "# define necessary callbacks\n",
        "checkpointer = ModelCheckpoint(filepath=BEST_MODEL_FILE, monitor='val_mae',\n",
        "                               verbose=1, save_best_only=True, mode='min')\n",
        "\n",
        "# compile the model\n",
        "model.compile(optimizer='adam',\n",
        "              loss='mean_squared_error', metrics=['mae', 'acc'])\n",
        "\n",
        "# Train the model\n",
        "history = model.fit(train_input, train_output,\n",
        "                    epochs=NUM_EPOCHS, batch_size=BATCH_SIZE,\n",
        "                    validation_split=0.05, callbacks=[checkpointer])"
      ],
      "execution_count": null,
      "outputs": []
    },
    {
      "cell_type": "markdown",
      "metadata": {
        "id": "7Gh2ostTbH5Y"
      },
      "source": [
        "#### Model Persist"
      ]
    },
    {
      "cell_type": "code",
      "metadata": {
        "id": "WkFsRvv-107B"
      },
      "source": [
        "model.save(LAST_MODEL_FILE)\n",
        "persist(BEST_MODEL_FILE)\n",
        "persist(LAST_MODEL_FILE)"
      ],
      "execution_count": null,
      "outputs": []
    },
    {
      "cell_type": "markdown",
      "metadata": {
        "id": "cNMF-4Zt7Rph"
      },
      "source": [
        "### Learning Curves"
      ]
    },
    {
      "cell_type": "code",
      "metadata": {
        "id": "QjlnW8z1JKI_"
      },
      "source": [
        "start = 3\n",
        "\n",
        "# summarize history for mean_absolute_error\n",
        "try:\n",
        "    plt.plot(history.history['mae'][start:])\n",
        "    plt.plot(history.history['val_mae'][start:])\n",
        "    plt.title('Mean Absolute Error vs Epoch')\n",
        "    plt.ylabel('Mean Absolute Error')\n",
        "    plt.xlabel('Epochs')\n",
        "    plt.legend(['train', 'validation'], loc='upper right')\n",
        "    plt.show()\n",
        "    # summarize history for accuracy\n",
        "    plt.plot(history.history['acc'][start:])\n",
        "    plt.plot(history.history['val_acc'][start:])\n",
        "    plt.title('Accuracy vs Epoch')\n",
        "    plt.ylabel('Accuracy')\n",
        "    plt.xlabel('Epochs')\n",
        "    plt.legend(['train', 'validation'], loc='upper left')\n",
        "    plt.show()\n",
        "    # summarize history for loss\n",
        "    plt.plot(history.history['loss'][start:])\n",
        "    plt.plot(history.history['val_loss'][start:])\n",
        "    plt.title('Loss vs Epoch')\n",
        "    plt.ylabel('Loss')\n",
        "    plt.xlabel('Epochs')\n",
        "    plt.legend(['train', 'validation'], loc='upper left')\n",
        "    plt.show()\n",
        "except:\n",
        "    print(\"One of the metrics used for plotting graphs is missing! See 'model.compile()'s `metrics` argument.\")"
      ],
      "execution_count": null,
      "outputs": []
    },
    {
      "cell_type": "markdown",
      "metadata": {
        "id": "9YQopeP3dy2w"
      },
      "source": [
        "### Predictions on Training Data"
      ]
    },
    {
      "cell_type": "code",
      "metadata": {
        "id": "Ku5wOYBf7YxA"
      },
      "source": [
        "test_preds = model.predict(train_input)"
      ],
      "execution_count": null,
      "outputs": []
    },
    {
      "cell_type": "code",
      "metadata": {
        "id": "FImTzzfY8M6n"
      },
      "source": [
        "n = int(random() * len(train_input))\n",
        "\n",
        "plot_image(train_input[n], heatmap=train_output[n, :, 9:-9, :])\n",
        "plot_image(train_input[n], heatmap=test_preds[n, :, 9:-9, :])\n",
        "plot_image(train_output[n, :, :, 0])\n",
        "plot_image(test_preds[n, :, :, 0])"
      ],
      "execution_count": null,
      "outputs": []
    },
    {
      "cell_type": "markdown",
      "metadata": {
        "id": "CjAcGXi_7rDs"
      },
      "source": [
        "## Model Restore"
      ]
    },
    {
      "cell_type": "code",
      "metadata": {
        "id": "9-axaYOq7u_H"
      },
      "source": [
        "#MODEL_FILE = BEST_MODEL_FILE\n",
        "MODEL_FILE = LAST_MODEL_FILE\n",
        "\n",
        "restore(MODEL_FILE)\n",
        "model = load_model(MODEL_FILE)"
      ],
      "execution_count": null,
      "outputs": []
    },
    {
      "cell_type": "markdown",
      "metadata": {
        "id": "Lf1BvhuK7zTP"
      },
      "source": [
        "## Predictions on New Data"
      ]
    },
    {
      "cell_type": "code",
      "metadata": {
        "id": "yC8KJJj1_QV1"
      },
      "source": [
        "FRAMES_PATH = '../drive/My Drive/colab-data'\n",
        "\n",
        "for idx in range(1, 21):\n",
        "    frame = mpimg.imread(os.path.join(FRAMES_PATH,\n",
        "                                      'frame-%d.jpg' % idx))\n",
        "    frame = scale(frame, np.shape(train_input)[1:3])\n",
        "    pred = model.predict(np.array([frame], dtype=np.float16) / 255)\n",
        "\n",
        "    #pred[pred < 0.5] = 0\n",
        "    plot_image(frame, heatmap=pred[0, :, 9:-9, :])\n",
        "    #plot_image(pred[0, :, :, 0], heatmap=model_heatmaps[0])"
      ],
      "execution_count": null,
      "outputs": []
    },
    {
      "cell_type": "code",
      "metadata": {
        "id": "xec-QQR0msa8"
      },
      "source": [
        "FRAMES_PATH = '../drive/My Drive/colab-data'\n",
        "\n",
        "frame = mpimg.imread(os.path.join(FRAMES_PATH, 'frame-18.jpg'))\n",
        "frame = scale(frame, np.shape(train_input)[1:3])\n",
        "pred = model.predict(np.array([frame]) / 255)\n",
        "for p in range(1):\n",
        "    plot_image(pred[0, :, :, p])"
      ],
      "execution_count": null,
      "outputs": []
    }
  ]
}